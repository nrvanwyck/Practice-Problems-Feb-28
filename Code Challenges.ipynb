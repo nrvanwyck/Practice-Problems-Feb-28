{
 "cells": [
  {
   "cell_type": "markdown",
   "metadata": {},
   "source": [
    "## Code Challenge May 30th:\n",
    "\n",
    "a prime number is any whole number >1 that can't be divided without a remainder (by anything but 1 or itself) \n",
    "\n",
    "examples: 17, 29\n",
    "\n",
    "counterexamples: any even number, 51==17*3\n",
    "\n",
    "implement the function nth_prime that takes an int and looks up the prime living at that index, returning it. \n",
    "\n",
    "The list of primes starts with 2. It begins [2, 3, 5, 7, 11, ... ] and goes on forever. \n",
    "\n",
    "In your submission, you'll need to come up with your own list of primes. \n",
    "\n",
    "example: \n",
    "\n",
    "nth_prime(0) == 2 \n",
    "\n",
    "nth_prime(5) == 13"
   ]
  },
  {
   "cell_type": "code",
   "execution_count": 73,
   "metadata": {},
   "outputs": [
    {
     "data": {
      "text/plain": [
       "11"
      ]
     },
     "execution_count": 73,
     "metadata": {},
     "output_type": "execute_result"
    }
   ],
   "source": [
    "def is_prime(m):\n",
    "    if m == 2:\n",
    "        return True\n",
    "    for k in range(2, int(m**0.5 + 2)): \n",
    "        if m % k == 0:\n",
    "            return False\n",
    "    return True\n",
    "\n",
    "def nth_prime(n):\n",
    "  primes = [k for k in range(2, n**2 + 3) if is_prime(k)]\n",
    "  return primes[n]\n",
    "\n",
    "nth_prime(4)"
   ]
  },
  {
   "cell_type": "markdown",
   "metadata": {},
   "source": [
    "## Code Challenge June 6th:\n",
    "\n",
    "What is your name? Flatten \n",
    "\n",
    "What is your type? I take a list of lists and I turn it into a list.\n",
    "\n",
    "What would you turn [[1,2,3], [5,6,7], [8,9,4]] into? [1,2,3,5,6,7,8,9,4]\n",
    "\n",
    "What would you look like if input was constrained to two lists each of length two? def flatten2x2(xss): return [xss[0][0], xss[0][1], xss[1][0], xss[1][1]]\n",
    "\n",
    "What is your quest? To find out what I would look like on arbitrary input\n",
    "_____________________________________________\n",
    "\n",
    "constraints: assume that list of list means something strict, so nothing weird like [[1,2], 3,4] or [[1,2], [[3,4], 5]] where there's varying depth of nestedness.\n",
    "\n",
    "hint: notably not a constraint is that each inner list has uniform length, so [[1,2,3], [7,6]] may be encountered. \n",
    "\n",
    "edge cases: \n",
    "assert flatten([]) == [] # When you flatten the list containing no lists, the result is empty.\n",
    "assert flatten([[1,2], [], [5,6]]) == [1,2,5,6]\n",
    "\n",
    "\n",
    "Stretch goal: We say a function is linear in input if we can measure the \"steps\" it takes and if this number of steps scales with the input length (meaning input length is multiplied and added with some constants, but the constants aren't important). We say a function is better than linear if it takes less than this many steps, and worse than linear if it takes more. \n",
    "\n",
    "DM Quinn if you think your solution is worse than linear, linear, or better than linear. "
   ]
  },
  {
   "cell_type": "code",
   "execution_count": 78,
   "metadata": {},
   "outputs": [],
   "source": [
    "# my solution\n",
    "\n",
    "def flatten(xss): \n",
    "  '''take: list of list\n",
    "     give back: list \n",
    "  '''\n",
    "  output = []\n",
    "  for xs in xss:\n",
    "    for x in xs:\n",
    "      output.append(x)\n",
    "  return output\n",
    "\n",
    "assert flatten([[1,2,3], [5,6,7], [8,9,4]]) == [1,2,3,5,6,7,8,9,4]"
   ]
  },
  {
   "cell_type": "code",
   "execution_count": null,
   "metadata": {},
   "outputs": [],
   "source": [
    "# model solution\n",
    "\n",
    "def flatten(xss): \n",
    "  '''take: list of list\n",
    "     give back: list \n",
    "  '''\n",
    "  if not xss: \n",
    "    return []\n",
    "  else: \n",
    "    xs = xss.pop(0)\n",
    "    return xs + flatten(xss)\n",
    "\n",
    "assert flatten([[1,2,3], [5,6,7], [8,9,4]]) == [1,2,3,5,6,7,8,9,4]"
   ]
  },
  {
   "cell_type": "markdown",
   "metadata": {},
   "source": [
    "## Code Challenge June 11th:\n",
    "\n",
    "Today we're going to do a little with boolean expressions and control flow. \n",
    "\n",
    "Today, we are writing two functions from int to either string or int.\n",
    "\n",
    "the modulo operator % divides two integers and returns the remainder. \n",
    "\n",
    "example: \n",
    "17%5==2\n",
    "28%3==1\n",
    "\n",
    "Please implement the function fizz or buzz \n",
    "\n",
    "![fizz or buzz](https://storage.googleapis.com/replit/images/1560214646027_f35af6604c39b6f6e45e096958f36c74.pn)\n",
    "\n",
    "It will take x, and integer, and return either the strings described or x. \n",
    "\n",
    "Notice: the elif keyword in python https://www.tutorialspoint.com/python/pythonif else.htm \n",
    "\n",
    "Then, implement bazz blitz bar \n",
    "\n",
    "![bazz blitz bar](https://storage.googleapis.com/replit/images/1560215124445_1c7309f924b64dfff308be04c682638e.pn)\n",
    "\n",
    "As before, it will take x, an integer, and return either the correct string or x itself. \n",
    "\n",
    "Notice: 1001 == 7 * 11 * 13\n",
    "\n",
    "There is no for loop in today's assignment."
   ]
  },
  {
   "cell_type": "code",
   "execution_count": 79,
   "metadata": {},
   "outputs": [],
   "source": [
    "def fizz_or_buzz(x): \n",
    "  if x%15 == 0:\n",
    "    return 'fizzbuzz'\n",
    "  elif x%3 == 0:\n",
    "    return 'fizz'\n",
    "  elif x%5 == 0:\n",
    "    return 'buzz'\n",
    "  else:\n",
    "    return x\n",
    "  \n",
    "def bazz_blitz_bar(x): \n",
    "  if x%1001 == 0:\n",
    "    return 'bazzblitzbar'\n",
    "  elif x%143 == 0:\n",
    "    return 'blitzbar'\n",
    "  elif x%91 == 0:\n",
    "    return 'bazzbar'\n",
    "  elif x%77 == 0:\n",
    "    return 'bazzblitz'\n",
    "  elif x%13 == 0:\n",
    "    return 'bar'\n",
    "  elif x%11 == 0:\n",
    "    return 'blitz'\n",
    "  elif x%7 == 0:\n",
    "    return 'bazz'\n",
    "  else:\n",
    "    return x\n",
    "  return None\n",
    "  \n",
    "assert fizz_or_buzz(31) == 31\n",
    "assert fizz_or_buzz(115) == \"buzz\""
   ]
  },
  {
   "cell_type": "markdown",
   "metadata": {},
   "source": []
  },
  {
   "cell_type": "markdown",
   "metadata": {},
   "source": [
    "## Code Challenge July 9th:\n",
    "\n",
    "Once more into the breach is actually a Henry V quote, not a Ceasar quote, but so it goes. \n",
    "\n",
    "1. A ceasar cipher encrypts by putting letters on a \"wheel\" and switching out each character for the character at a fixed distance on the wheel\n",
    "\n",
    "![cipher wheel](https://storage.googleapis.com/replit/images/1561255840102_1ad513dde967e51f194c4b328b583b71.png)\n",
    "\n",
    "Today, we will not be putting the letters on a wheel exactly, we will instead simply use python's ord and chr keywords. Please research them briefly, then implement ceasar cipher. \n",
    "\n",
    "```\n",
    "example: \n",
    "ceasar(4, \"et tu brute\") == 'ix$xy$fvyxi'\n",
    "ceasar(3, \"et tu brute\") == 'hw#wx#euxwh'\n",
    "```\n",
    "\n",
    "2. You receive values representing USD in the form of strings, but you need to get them to float. Here's a random sample of what the input values will look like:\n",
    "\n",
    "```\n",
    "\"$400.00\"\n",
    "\"4,321\" \n",
    "\"7,654,321.99 big ones\"\n",
    "\"$2,456.4\" \n",
    "\"3234 smackeroons\"\n",
    "```\n",
    "\n",
    "Please write a function to_float that casts them all to float, correctly.\n",
    "\n",
    "The only slang strings in the test cases will be \"big ones\" or \"smackeroons\""
   ]
  },
  {
   "cell_type": "code",
   "execution_count": null,
   "metadata": {},
   "outputs": [],
   "source": [
    "def ceasar(k, s):\n",
    "  '''take: an int and a string\n",
    "  return: a string, cesar ciphered with k.'''\n",
    "  assert isinstance(k, int) and isinstance(s, str)\n",
    "  char_list = [char for char in s]\n",
    "  ord_list = [(ord(char) + k) for char in char_list]\n",
    "  chr_list = [chr(ord) for ord in ord_list]\n",
    "  return (\"\".join(chr_list))\n",
    "\n",
    "def to_float(smackeroons):\n",
    "  ''' takes a string and returns a float '''\n",
    "  char_list = [char for char in smackeroons]\n",
    "  ord_list = [ord(char) for char in char_list]\n",
    "  chr_list = [chr(ord) for ord in ord_list if ord >= 46 and ord != 47 and ord <= 57]\n",
    "  return (float(\"\".join(chr_list)))"
   ]
  }
 ],
 "metadata": {
  "kernelspec": {
   "display_name": "Python 3",
   "language": "python",
   "name": "python3"
  },
  "language_info": {
   "codemirror_mode": {
    "name": "ipython",
    "version": 3
   },
   "file_extension": ".py",
   "mimetype": "text/x-python",
   "name": "python",
   "nbconvert_exporter": "python",
   "pygments_lexer": "ipython3",
   "version": "3.7.3"
  }
 },
 "nbformat": 4,
 "nbformat_minor": 2
}
